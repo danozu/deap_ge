{
  "nbformat": 4,
  "nbformat_minor": 0,
  "metadata": {
    "kernelspec": {
      "display_name": "Python 3",
      "language": "python",
      "name": "python3"
    },
    "language_info": {
      "codemirror_mode": {
        "name": "ipython",
        "version": 3
      },
      "file_extension": ".py",
      "mimetype": "text/x-python",
      "name": "python",
      "nbconvert_exporter": "python",
      "pygments_lexer": "ipython3",
      "version": "3.8.3"
    },
    "colab": {
      "name": "GE Parity Problems.ipynb",
      "provenance": []
    }
  },
  "cells": [
    {
      "cell_type": "markdown",
      "metadata": {
        "id": "W9KMI7t565lN"
      },
      "source": [
        "<div>\n",
        "<img src=\"https://drive.google.com/uc?export=view&id=1vK33e_EqaHgBHcbRV_m38hx6IkG0blK_\" width=\"350\"/>\n",
        "</div> \n",
        "\n",
        "#**DEAP_GE code running parity problems with 3, 4 or 5 bits**"
      ]
    },
    {
      "cell_type": "code",
      "metadata": {
        "id": "qkRwXuzOZ_ci",
        "colab": {
          "base_uri": "https://localhost:8080/"
        },
        "outputId": "41cfcda3-5628-44e6-80a6-0f6e2e496a1e"
      },
      "source": [
        "from google.colab import drive\n",
        "drive.mount('/content/drive', force_remount=True)"
      ],
      "execution_count": 1,
      "outputs": [
        {
          "output_type": "stream",
          "name": "stdout",
          "text": [
            "Mounted at /content/drive\n"
          ]
        }
      ]
    },
    {
      "cell_type": "markdown",
      "metadata": {
        "id": "xrYC0mfKFkh7"
      },
      "source": [
        "Clone this repository in which we have all functions and classes created or adapted to this work."
      ]
    },
    {
      "cell_type": "code",
      "metadata": {
        "id": "lVc14jScaGWB",
        "colab": {
          "base_uri": "https://localhost:8080/"
        },
        "outputId": "c84f39ad-9633-4a64-da3d-d70e86fa8925"
      },
      "source": [
        "!git clone https://github.com/danozu/deap_ge.git"
      ],
      "execution_count": 2,
      "outputs": [
        {
          "output_type": "stream",
          "name": "stdout",
          "text": [
            "Cloning into 'deap_ge'...\n",
            "remote: Enumerating objects: 14, done.\u001b[K\n",
            "remote: Counting objects: 100% (14/14), done.\u001b[K\n",
            "remote: Compressing objects: 100% (12/12), done.\u001b[K\n",
            "remote: Total 14 (delta 2), reused 14 (delta 2), pack-reused 0\u001b[K\n",
            "Unpacking objects: 100% (14/14), done.\n"
          ]
        }
      ]
    },
    {
      "cell_type": "code",
      "metadata": {
        "id": "OZEHjQJ_arvj",
        "colab": {
          "base_uri": "https://localhost:8080/"
        },
        "outputId": "a6792ffe-d9b7-4961-f429-ec8c5f74fee2"
      },
      "source": [
        "!pwd\n",
        "\n",
        "%cd /content/deap_ge"
      ],
      "execution_count": 3,
      "outputs": [
        {
          "output_type": "stream",
          "name": "stdout",
          "text": [
            "/content\n",
            "/content/deap_ge\n"
          ]
        }
      ]
    },
    {
      "cell_type": "markdown",
      "metadata": {
        "id": "uM8P0xAVWnJM"
      },
      "source": [
        "Import adapted functions and classes from PonyGE2.\n",
        "\n",
        "Import our algorithms, adapted from deap.algorithms.\n",
        "\n",
        "Import DEAP (maybe it can be necessary to run the installation before that).\n",
        "\n",
        "Import functions used by our grammars.\n",
        "\n"
      ]
    },
    {
      "cell_type": "code",
      "metadata": {
        "id": "be7FcJqpWnJM",
        "colab": {
          "base_uri": "https://localhost:8080/"
        },
        "outputId": "41e10e50-75d4-4c01-bc8c-2f514d8c2634"
      },
      "source": [
        "!pip install deap\n",
        "\n",
        "from ponyge2_adapted_files import Grammar, ge\n",
        "import algorithms\n",
        "from functions import not_, and_, or_, nand_, nor_\n",
        "\n",
        "from os import path\n",
        "import pandas as pd\n",
        "import numpy as np\n",
        "import matplotlib.pyplot as plt\n",
        "from deap import creator, base, tools"
      ],
      "execution_count": 4,
      "outputs": [
        {
          "output_type": "stream",
          "name": "stdout",
          "text": [
            "Collecting deap\n",
            "  Downloading deap-1.3.1-cp37-cp37m-manylinux_2_5_x86_64.manylinux1_x86_64.manylinux_2_12_x86_64.manylinux2010_x86_64.whl (160 kB)\n",
            "\u001b[?25l\r\u001b[K     |██                              | 10 kB 24.8 MB/s eta 0:00:01\r\u001b[K     |████                            | 20 kB 7.2 MB/s eta 0:00:01\r\u001b[K     |██████                          | 30 kB 6.9 MB/s eta 0:00:01\r\u001b[K     |████████▏                       | 40 kB 6.7 MB/s eta 0:00:01\r\u001b[K     |██████████▏                     | 51 kB 2.7 MB/s eta 0:00:01\r\u001b[K     |████████████▏                   | 61 kB 3.0 MB/s eta 0:00:01\r\u001b[K     |██████████████▎                 | 71 kB 2.9 MB/s eta 0:00:01\r\u001b[K     |████████████████▎               | 81 kB 3.2 MB/s eta 0:00:01\r\u001b[K     |██████████████████▎             | 92 kB 3.2 MB/s eta 0:00:01\r\u001b[K     |████████████████████▍           | 102 kB 2.7 MB/s eta 0:00:01\r\u001b[K     |██████████████████████▍         | 112 kB 2.7 MB/s eta 0:00:01\r\u001b[K     |████████████████████████▍       | 122 kB 2.7 MB/s eta 0:00:01\r\u001b[K     |██████████████████████████▌     | 133 kB 2.7 MB/s eta 0:00:01\r\u001b[K     |████████████████████████████▌   | 143 kB 2.7 MB/s eta 0:00:01\r\u001b[K     |██████████████████████████████▌ | 153 kB 2.7 MB/s eta 0:00:01\r\u001b[K     |████████████████████████████████| 160 kB 2.7 MB/s \n",
            "\u001b[?25hRequirement already satisfied: numpy in /usr/local/lib/python3.7/dist-packages (from deap) (1.19.5)\n",
            "Installing collected packages: deap\n",
            "Successfully installed deap-1.3.1\n"
          ]
        }
      ]
    },
    {
      "cell_type": "markdown",
      "metadata": {
        "id": "d8fUnZi8WnJN"
      },
      "source": [
        "Set our Grammatical Evolution parameters."
      ]
    },
    {
      "cell_type": "code",
      "metadata": {
        "id": "hFX8ofmXWnJO"
      },
      "source": [
        "POPULATION_SIZE = 1000\n",
        "MAX_GENERATIONS = 50\n",
        "P_CROSSOVER = 0.8\n",
        "P_MUTATION = 0.01\n",
        "ELITE_SIZE = round(0.01*POPULATION_SIZE)\n",
        "\n",
        "HALL_OF_FAME_SIZE = 1\n",
        "MAX_INIT_TREE_DEPTH = 10\n",
        "MIN_INIT_TREE_DEPTH = 1\n",
        "MAX_TREE_DEPTH = 17\n",
        "MAX_WRAPS = 0\n",
        "CODON_SIZE = 255"
      ],
      "execution_count": 5,
      "outputs": []
    },
    {
      "cell_type": "markdown",
      "metadata": {
        "id": "ZMDqE3S626v0"
      },
      "source": [
        "Set a problem to solve. We can choose 'parity3', 'parity4' or 'parity5'.\n",
        "\n",
        "The parameters in the previous cell are recommended to solve the problem with 3 bits. "
      ]
    },
    {
      "cell_type": "code",
      "metadata": {
        "id": "-nbedADI3EcL"
      },
      "source": [
        "problem = 'parity3'"
      ],
      "execution_count": 6,
      "outputs": []
    },
    {
      "cell_type": "markdown",
      "metadata": {
        "id": "zLg2gX1d3icE"
      },
      "source": [
        "Read datasets and grammars according to the problem picked in the previous cell."
      ]
    },
    {
      "cell_type": "code",
      "metadata": {
        "id": "qwOSDQmuaVjx"
      },
      "source": [
        "if problem == 'parity3':\n",
        "    X = np.zeros([3,8], dtype=bool)\n",
        "    Y = np.zeros([8,], dtype=bool)\n",
        "\n",
        "    data = pd.read_table(r\"datasets/parity3.csv\")\n",
        "    for i in range(3):\n",
        "        for j in range(8):\n",
        "            X[i,j] = data['d'+ str(i)].iloc[j]\n",
        "    for i in range(8):\n",
        "        Y[i] = data['output'].iloc[i]\n",
        "        \n",
        "    GRAMMAR_FILE = 'parity3.bnf'\n",
        "\n",
        "elif problem == 'parity4':\n",
        "    X = np.zeros([4,16], dtype=bool)\n",
        "    Y = np.zeros([16,], dtype=bool)\n",
        "\n",
        "    data = pd.read_table(r\"datasets/parity4.csv\")\n",
        "    for i in range(4):\n",
        "        for j in range(16):\n",
        "            X[i,j] = data['d'+ str(i)].iloc[j]\n",
        "    for i in range(16):\n",
        "        Y[i] = data['output'].iloc[i]\n",
        "        \n",
        "    GRAMMAR_FILE = 'parity4.bnf'\n",
        "\n",
        "elif problem == 'parity5':\n",
        "    X = np.zeros([5,32], dtype=bool)\n",
        "    Y = np.zeros([32,], dtype=bool)\n",
        "\n",
        "    data = pd.read_table(r\"datasets/parity5.csv\")\n",
        "    for i in range(5):\n",
        "        for j in range(32):\n",
        "            X[i,j] = data['d'+ str(i)].iloc[j]\n",
        "    for i in range(32):\n",
        "        Y[i] = data['output'].iloc[i]\n",
        "        \n",
        "    GRAMMAR_FILE = 'parity5.bnf'"
      ],
      "execution_count": 7,
      "outputs": []
    },
    {
      "cell_type": "markdown",
      "metadata": {
        "id": "4gPC33ZH55Ce"
      },
      "source": [
        "Print data."
      ]
    },
    {
      "cell_type": "code",
      "metadata": {
        "colab": {
          "base_uri": "https://localhost:8080/",
          "height": 300
        },
        "id": "E2TIsCMM4iyt",
        "outputId": "3e4eca4e-b4aa-4e7e-e71c-732d07619a75"
      },
      "source": [
        "pd.set_option('display.max_rows', None)\n",
        "pd.set_option('display.max_columns', None)\n",
        "pd.set_option('display.width', 10000)\n",
        "pd.set_option('display.colheader_justify', 'center')\n",
        "\n",
        "display(data)"
      ],
      "execution_count": 8,
      "outputs": [
        {
          "output_type": "display_data",
          "data": {
            "text/html": [
              "<div>\n",
              "<style scoped>\n",
              "    .dataframe tbody tr th:only-of-type {\n",
              "        vertical-align: middle;\n",
              "    }\n",
              "\n",
              "    .dataframe tbody tr th {\n",
              "        vertical-align: top;\n",
              "    }\n",
              "\n",
              "    .dataframe thead th {\n",
              "        text-align: right;\n",
              "    }\n",
              "</style>\n",
              "<table border=\"1\" class=\"dataframe\">\n",
              "  <thead>\n",
              "    <tr style=\"text-align: center;\">\n",
              "      <th></th>\n",
              "      <th>d0</th>\n",
              "      <th>d1</th>\n",
              "      <th>d2</th>\n",
              "      <th>output</th>\n",
              "    </tr>\n",
              "  </thead>\n",
              "  <tbody>\n",
              "    <tr>\n",
              "      <th>0</th>\n",
              "      <td>0</td>\n",
              "      <td>0</td>\n",
              "      <td>0</td>\n",
              "      <td>1</td>\n",
              "    </tr>\n",
              "    <tr>\n",
              "      <th>1</th>\n",
              "      <td>0</td>\n",
              "      <td>0</td>\n",
              "      <td>1</td>\n",
              "      <td>0</td>\n",
              "    </tr>\n",
              "    <tr>\n",
              "      <th>2</th>\n",
              "      <td>0</td>\n",
              "      <td>1</td>\n",
              "      <td>0</td>\n",
              "      <td>0</td>\n",
              "    </tr>\n",
              "    <tr>\n",
              "      <th>3</th>\n",
              "      <td>0</td>\n",
              "      <td>1</td>\n",
              "      <td>1</td>\n",
              "      <td>1</td>\n",
              "    </tr>\n",
              "    <tr>\n",
              "      <th>4</th>\n",
              "      <td>1</td>\n",
              "      <td>0</td>\n",
              "      <td>0</td>\n",
              "      <td>0</td>\n",
              "    </tr>\n",
              "    <tr>\n",
              "      <th>5</th>\n",
              "      <td>1</td>\n",
              "      <td>0</td>\n",
              "      <td>1</td>\n",
              "      <td>1</td>\n",
              "    </tr>\n",
              "    <tr>\n",
              "      <th>6</th>\n",
              "      <td>1</td>\n",
              "      <td>1</td>\n",
              "      <td>0</td>\n",
              "      <td>1</td>\n",
              "    </tr>\n",
              "    <tr>\n",
              "      <th>7</th>\n",
              "      <td>1</td>\n",
              "      <td>1</td>\n",
              "      <td>1</td>\n",
              "      <td>0</td>\n",
              "    </tr>\n",
              "  </tbody>\n",
              "</table>\n",
              "</div>"
            ],
            "text/plain": [
              "   d0  d1  d2  output\n",
              "0   0   0   0     1  \n",
              "1   0   0   1     0  \n",
              "2   0   1   0     0  \n",
              "3   0   1   1     1  \n",
              "4   1   0   0     0  \n",
              "5   1   0   1     1  \n",
              "6   1   1   0     1  \n",
              "7   1   1   1     0  "
            ]
          },
          "metadata": {}
        }
      ]
    },
    {
      "cell_type": "markdown",
      "metadata": {
        "id": "KPbXdsW62l0_"
      },
      "source": [
        "Print grammar."
      ]
    },
    {
      "cell_type": "code",
      "metadata": {
        "colab": {
          "base_uri": "https://localhost:8080/"
        },
        "id": "dnKuEGiU2nlH",
        "outputId": "eb841ff6-4a13-4f30-86e3-e926b313f86d"
      },
      "source": [
        "f = open(\"grammars/\" + GRAMMAR_FILE, \"r\")\n",
        "print(f.read())\n",
        "f.close() "
      ],
      "execution_count": 9,
      "outputs": [
        {
          "output_type": "stream",
          "name": "stdout",
          "text": [
            "<e>  ::=  and_(<e>,<e>)|\n",
            "          or_(<e>,<e>)|\n",
            "          nand_(<e>,<e>)|\n",
            "          nor_(<e>,<e>)|\n",
            "          x[0]|x[1]|x[2]\n",
            "\n"
          ]
        }
      ]
    },
    {
      "cell_type": "markdown",
      "metadata": {
        "id": "FP5SqEis6jAu"
      },
      "source": [
        "Set up the grammar addressed by GRAMMAR_FILE in the class Grammar."
      ]
    },
    {
      "cell_type": "code",
      "metadata": {
        "id": "95tAf1SJ6Xju"
      },
      "source": [
        "BNF_GRAMMAR = Grammar(path.join(\"grammars\", GRAMMAR_FILE))"
      ],
      "execution_count": 10,
      "outputs": []
    },
    {
      "cell_type": "markdown",
      "metadata": {
        "id": "zg5mu47T840n"
      },
      "source": [
        "Define as fitness function the number of outputs wrongly predicted."
      ]
    },
    {
      "cell_type": "code",
      "metadata": {
        "id": "BJV7-iYG9RTQ"
      },
      "source": [
        "def fitness_eval(individual):\n",
        "    x = X # It is necessary since the inputs are in X, but the grammar uses x\n",
        "    \n",
        "    if individual.invalid == True:\n",
        "        return np.NaN,\n",
        "\n",
        "    # Evaluate the expression\n",
        "    try:\n",
        "        pred = eval(individual.phenotype)\n",
        "    except (FloatingPointError, ZeroDivisionError, OverflowError,\n",
        "            MemoryError):\n",
        "        # FP err can happen through eg overflow (lots of pow/exp calls)\n",
        "        # ZeroDiv can happen when using unprotected operators\n",
        "        return np.NaN,\n",
        "    assert np.isrealobj(pred)\n",
        "\n",
        "    # The expected outputs are in Y\n",
        "    n_samples = len(Y)\n",
        "    compare = np.equal(Y,pred) # Compare the outputs with the expected values\n",
        "    n_correct_outputs = np.sum(compare)\n",
        "    \n",
        "    fitness = n_samples - n_correct_outputs\n",
        "    \n",
        "    return fitness,"
      ],
      "execution_count": 11,
      "outputs": []
    },
    {
      "cell_type": "markdown",
      "metadata": {
        "id": "7CpHP_CfAI0y"
      },
      "source": [
        "Create the deap toolbox.\n",
        "\n",
        "Use negative weights in the `base.Fitness` since we are trying to minimise the fitness.\n",
        "\n",
        "`ge.Individual` is a class with the following attributes: `phenotype`, `genome`, `tree`, `nodes`, `invalid` (True or False), `depth` and `used_codons`.\n",
        "\n",
        "Usually, when using deap, we initialise each individual independently, and then we repeat that until we fill out the whole population. However, since we are using Position Independent Grow Initialisation, we need to initialise all individuals simultaneously.\n",
        "\n",
        "`ge.selTournament` prevents selecting invalid individuals.\n",
        "\n",
        "`ge.crossover_onepoint` selects crossover points within the used portion of the genome. \n",
        "\n",
        "Similarly, `ge.mutation_int_flip_per_codon` performs only over the effective length.\n",
        "\n"
      ]
    },
    {
      "cell_type": "code",
      "metadata": {
        "id": "WbEpP5oC4Nwf"
      },
      "source": [
        "toolbox = base.Toolbox()\n",
        "\n",
        "# define a single objective, minimising fitness strategy:\n",
        "creator.create(\"FitnessMin\", base.Fitness, weights=(-1.0,))\n",
        "\n",
        "creator.create('Individual', ge.Individual, fitness=creator.FitnessMin)\n",
        "\n",
        "toolbox.register(\"populationCreator\", ge.initialisation_PI_Grow, creator.Individual) \n",
        "\n",
        "toolbox.register(\"evaluate\", fitness_eval)\n",
        "\n",
        "# Tournament selection:\n",
        "toolbox.register(\"select\", ge.selTournament, tournsize=7)\n",
        "\n",
        "# Single-point crossover:\n",
        "toolbox.register(\"mate\", ge.crossover_onepoint)\n",
        "\n",
        "# Flip-int mutation:\n",
        "toolbox.register(\"mutate\", ge.mutation_int_flip_per_codon)\n"
      ],
      "execution_count": 12,
      "outputs": []
    },
    {
      "cell_type": "markdown",
      "metadata": {
        "id": "hVv4DJZlWnJV"
      },
      "source": [
        "Set the main function and run it.\n",
        "\n",
        "Set the statistics object regarding the fitness score, but there are other statistics defined internally.\n",
        "\n",
        "Perform Grammatical Evolution using `algorithms.ge_eaSimple`, a simple evolutionary algorithm. The differences to the `algorithms.eaSimple` used by deap are:\n",
        "\n",
        "*   We use elitism;\n",
        "*   After crossover and mutation, we check the offspring to assure that the max tree depth is not achieved;\n",
        "*   We measure the generation and the selection times;\n",
        "*   We count the number of invalid individuals."
      ]
    },
    {
      "cell_type": "code",
      "metadata": {
        "colab": {
          "base_uri": "https://localhost:8080/"
        },
        "id": "dQXPBI-lwJNW",
        "outputId": "a9b8af83-ff73-4015-e4a4-9fbecedb532b"
      },
      "source": [
        "# create initial population (generation 0):\n",
        "population = toolbox.populationCreator(size=POPULATION_SIZE, \n",
        "                                        bnf_grammar=BNF_GRAMMAR, \n",
        "                                        min_init_tree_depth=MIN_INIT_TREE_DEPTH,\n",
        "                                        max_init_tree_depth=MAX_INIT_TREE_DEPTH,\n",
        "                                        max_tree_depth=MAX_TREE_DEPTH, \n",
        "                                        max_wraps=MAX_WRAPS,\n",
        "                                        codon_size=CODON_SIZE\n",
        "                                        )\n",
        "\n",
        "# define the hall-of-fame object:\n",
        "hof = tools.HallOfFame(HALL_OF_FAME_SIZE)\n",
        "\n",
        "# prepare the statistics object:\n",
        "stats = tools.Statistics(key=lambda ind: ind.fitness.values)\n",
        "stats.register(\"avg\", np.nanmean)\n",
        "stats.register(\"std\", np.nanstd)\n",
        "stats.register(\"min\", np.nanmin)\n",
        "stats.register(\"max\", np.nanmax)\n",
        "\n",
        "# perform the Grammatical Evolution flow:\n",
        "population, logbook = algorithms.ge_eaSimpleWithElitism(population, toolbox, cxpb=P_CROSSOVER, mutpb=P_MUTATION,\n",
        "                                          ngen=MAX_GENERATIONS, elite_size=ELITE_SIZE,\n",
        "                                          bnf_grammar=BNF_GRAMMAR, codon_size=CODON_SIZE, \n",
        "                                          max_tree_depth=MAX_TREE_DEPTH, max_wraps=MAX_WRAPS,\n",
        "                                          stats=stats, halloffame=hof, verbose=True)"
      ],
      "execution_count": 14,
      "outputs": [
        {
          "output_type": "stream",
          "name": "stdout",
          "text": [
            "gen\tinvalid\tavg  \tstd     \tmin\tmax\tselection_time\tgeneration_time\n",
            "0  \t0      \t4.012\t0.523313\t2  \t6  \t0             \t0.178363       \n",
            "1  \t0      \t3.87477\t0.562531\t2  \t6  \t0.0162311     \t2.95533        \n",
            "2  \t449    \t3.65394\t0.591147\t2  \t6  \t0.0207162     \t1.07277        \n",
            "3  \t188    \t3.58581\t0.65421 \t2  \t5  \t0.0139306     \t0.350112       \n",
            "4  \t126    \t3.61326\t0.680137\t2  \t6  \t0.013927      \t0.306095       \n",
            "5  \t95     \t3.5778 \t0.701457\t2  \t6  \t0.0138822     \t0.362042       \n",
            "6  \t81     \t3.49465\t0.769795\t2  \t6  \t0.0138903     \t0.347881       \n",
            "7  \t66     \t3.38737\t0.83063 \t2  \t6  \t0.0123219     \t0.346557       \n",
            "8  \t50     \t3.30721\t0.906081\t2  \t6  \t0.0136292     \t0.31705        \n",
            "9  \t43     \t3.33195\t0.958521\t2  \t6  \t0.0135727     \t0.323747       \n",
            "10 \t33     \t3.28482\t0.960746\t2  \t6  \t0.0139289     \t0.377358       \n",
            "11 \t38     \t3.30462\t0.980073\t2  \t6  \t0.0145788     \t0.315863       \n",
            "12 \t25     \t3.24127\t0.986719\t2  \t6  \t0.0150623     \t0.279997       \n",
            "13 \t26     \t3.18673\t1.01661 \t1  \t6  \t0.0135331     \t0.266142       \n",
            "14 \t20     \t3.27699\t1.01549 \t1  \t6  \t0.013993      \t0.259695       \n",
            "15 \t18     \t3.26904\t0.989132\t1  \t6  \t0.0140212     \t0.27197        \n",
            "16 \t15     \t3.23959\t1.04004 \t1  \t7  \t0.0142841     \t0.283271       \n",
            "17 \t15     \t3.18061\t1.01671 \t1  \t6  \t0.0139329     \t0.280484       \n",
            "18 \t20     \t3.15354\t1.04188 \t1  \t7  \t0.0149553     \t0.263336       \n",
            "19 \t10     \t3.01509\t1.08436 \t1  \t6  \t0.0127378     \t0.253711       \n",
            "20 \t6      \t2.99396\t1.17484 \t1  \t7  \t0.0138612     \t0.256254       \n",
            "21 \t6      \t2.75806\t1.22389 \t1  \t7  \t0.0119019     \t0.281834       \n",
            "22 \t8      \t2.6999 \t1.29317 \t1  \t7  \t0.0179069     \t0.304767       \n",
            "23 \t7      \t2.63755\t1.29726 \t1  \t7  \t0.0141475     \t0.32029        \n",
            "24 \t4      \t2.59353\t1.37308 \t1  \t6  \t0.0136192     \t0.331937       \n",
            "25 \t11     \t2.625  \t1.35217 \t1  \t6  \t0.0134432     \t0.354608       \n",
            "26 \t0      \t2.45783\t1.34255 \t1  \t7  \t0.0137317     \t0.371344       \n",
            "27 \t4      \t2.40101\t1.34081 \t1  \t7  \t0.0132639     \t0.386179       \n",
            "28 \t10     \t2.34862\t1.34353 \t0  \t6  \t0.0133367     \t0.403886       \n",
            "29 \t19     \t2.31777\t1.35014 \t0  \t7  \t0.0132456     \t0.479883       \n",
            "30 \t15     \t2.3998 \t1.37478 \t0  \t7  \t0.0118973     \t0.465608       \n",
            "31 \t17     \t2.27133\t1.36178 \t0  \t7  \t0.0134854     \t0.44345        \n",
            "32 \t27     \t2.2638 \t1.40694 \t0  \t6  \t0.0135698     \t0.488907       \n",
            "33 \t22     \t2.31414\t1.50732 \t0  \t7  \t0.012188      \t0.48913        \n",
            "34 \t45     \t2.30475\t1.55049 \t0  \t7  \t0.014194      \t0.501999       \n",
            "35 \t32     \t2.2381 \t1.61362 \t0  \t8  \t0.0122447     \t0.497799       \n",
            "36 \t34     \t2.20227\t1.71148 \t0  \t6  \t0.0131106     \t0.528004       \n",
            "37 \t31     \t2.20206\t1.72919 \t0  \t6  \t0.0141878     \t0.531711       \n",
            "38 \t30     \t2.24403\t1.81137 \t0  \t7  \t0.0153162     \t0.552847       \n",
            "39 \t37     \t2.02612\t1.74448 \t0  \t7  \t0.0153272     \t0.571322       \n",
            "40 \t43     \t1.97614\t1.80031 \t0  \t8  \t0.0168087     \t0.601095       \n",
            "41 \t36     \t1.97897\t1.81985 \t0  \t8  \t0.0135179     \t0.621983       \n",
            "42 \t49     \t1.8826 \t1.75716 \t0  \t7  \t0.0132391     \t0.627321       \n",
            "43 \t63     \t1.91748\t1.76826 \t0  \t8  \t0.0166225     \t0.638827       \n",
            "44 \t79     \t1.77023\t1.70919 \t0  \t7  \t0.0121336     \t0.715427       \n",
            "45 \t73     \t1.85931\t1.72382 \t0  \t7  \t0.0131021     \t0.643993       \n",
            "46 \t76     \t1.7541 \t1.71451 \t0  \t8  \t0.0151415     \t0.671673       \n",
            "47 \t85     \t1.85854\t1.7683  \t0  \t7  \t0.0130553     \t0.658947       \n",
            "48 \t81     \t1.89567\t1.75598 \t0  \t8  \t0.013247      \t0.656219       \n",
            "49 \t99     \t1.84995\t1.81223 \t0  \t7  \t0.0132971     \t0.663444       \n",
            "50 \t87     \t1.80837\t1.78425 \t0  \t7  \t0.0135112     \t0.671555       \n"
          ]
        }
      ]
    },
    {
      "cell_type": "markdown",
      "metadata": {
        "id": "Noe-0Gik1Ep-"
      },
      "source": [
        "Show the best individual as an expression.\n",
        "\n",
        "Improve:\n",
        "Show depth etc.\n",
        "Other runs"
      ]
    },
    {
      "cell_type": "code",
      "metadata": {
        "colab": {
          "base_uri": "https://localhost:8080/"
        },
        "id": "UZZ0IcRU0uYO",
        "outputId": "3ce3d94a-4968-4a23-9b9d-0398e8970035"
      },
      "source": [
        "print(\"Best individual: \")\n",
        "print(hof.items[0].phenotype)\n",
        "print()\n",
        "print(\"Training Fitness: \", hof.items[0].fitness.values[0])\n",
        "print()\n",
        "print(\"Depth: \", hof.items[0].depth)\n",
        "print()\n",
        "print(\"Length of the genome: \", len(hof.items[0].genome))\n",
        "print()\n",
        "print(f'Used portion of the genome: {hof.items[0].used_codons/len(hof.items[0].genome):.2f}')\n",
        "print()"
      ],
      "execution_count": 28,
      "outputs": [
        {
          "output_type": "stream",
          "name": "stdout",
          "text": [
            "Best individual: \n",
            "and_(nor_(nor_(x[0],or_(nor_(x[1],and_(or_(nor_(x[1],x[0]),x[1]),x[2])),x[2])),and_(nand_(nand_(x[0],x[1]),or_(x[0],x[1])),x[2])),or_(or_(nor_(x[1],x[0]),x[1]),x[2]))\n",
            "\n",
            "Training Fitness:  0.0\n",
            "\n",
            "Depth:  10\n",
            "\n",
            "Length of the genome:  45\n",
            "\n",
            "Used portion of the genome: 0.69\n",
            "\n"
          ]
        }
      ]
    },
    {
      "cell_type": "markdown",
      "metadata": {
        "id": "ertRDr9f1Le-"
      },
      "source": [
        "Extract statistics to plot graphs regarding the best fitness and the average fitness."
      ]
    },
    {
      "cell_type": "code",
      "metadata": {
        "colab": {
          "base_uri": "https://localhost:8080/",
          "height": 295
        },
        "id": "uVq49gDK0VI9",
        "outputId": "e7fff512-6430-468d-9f2e-d999def38156"
      },
      "source": [
        "# Extract statistics to plot graphs:\n",
        "min_fitness_values = logbook.select(\"min\")\n",
        "mean_fitness_values = logbook.select(\"avg\")\n",
        "std_fitness_values = logbook.select(\"std\")\n",
        "\n",
        "plt.plot(min_fitness_values, color='red')\n",
        "plt.xlabel('Generations')\n",
        "plt.ylabel('Best Fitness')\n",
        "#plt.title('Max and Average Fitness over Generations')\n",
        "plt.title('Best Fitness over Generations')\n",
        "plt.show()\n"
      ],
      "execution_count": 29,
      "outputs": [
        {
          "output_type": "display_data",
          "data": {
            "image/png": "[encoded data removed]",
            "text/plain": [
              "<Figure size 432x288 with 1 Axes>"
            ]
          },
          "metadata": {
            "needs_background": "light"
          }
        }
      ]
    },
    {
      "cell_type": "code",
      "metadata": {
        "colab": {
          "base_uri": "https://localhost:8080/",
          "height": 295
        },
        "id": "ekUobaXt4Olo",
        "outputId": "78ebb26c-2e6b-4688-d6d9-aeff3ed8e72a"
      },
      "source": [
        "gen = np.arange(0, 50+1)\n",
        "\n",
        "plt.xlabel('Generations')\n",
        "plt.ylabel('Average Fitness')\n",
        "plt.title('Average Fitness over Generations')\n",
        "plt.errorbar(gen, mean_fitness_values, yerr=std_fitness_values,label=\"Best\", color=\"Green\")\n",
        "plt.show()"
      ],
      "execution_count": 30,
      "outputs": [
        {
          "output_type": "display_data",
          "data": {
            "image/png": "[encoded data removed]",
            "text/plain": [
              "<Figure size 432x288 with 1 Axes>"
            ]
          },
          "metadata": {
            "needs_background": "light"
          }
        }
      ]
    }
  ]
}